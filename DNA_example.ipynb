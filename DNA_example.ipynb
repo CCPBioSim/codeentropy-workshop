{
 "cells": [
  {
   "cell_type": "markdown",
   "id": "68093ba0-442f-4a4a-b260-4fc51403ad13",
   "metadata": {
    "tags": []
   },
   "source": [
    "# Calculating entropy of DNA strand (Solute)"
   ]
  },
  {
   "cell_type": "markdown",
   "id": "eee6cbca-b665-4e09-84ee-b92ac335c832",
   "metadata": {},
   "source": [
    "## Loading Data\n",
    "1. Load your data into a MDAnalysis Universe. "
   ]
  },
  {
   "cell_type": "code",
   "execution_count": 1,
   "id": "9b35a790-7289-4a08-b645-e4854ba311fb",
   "metadata": {},
   "outputs": [],
   "source": [
    "import MDAnalysis as mda\n",
    "# set the working dir to the root of repo inorder to use these path\n",
    "tprfile = \"data/md_A4_dna.tpr\"\n",
    "trrfile = \"data/md_A4_dna_xf.trr\"\n",
    "u = mda.Universe(tprfile, trrfile)"
   ]
  },
  {
   "cell_type": "markdown",
   "id": "9d47f142-c8ef-4041-8ad4-71e27c8b752d",
   "metadata": {},
   "source": [
    "2. Trim the data to reduce analysis time"
   ]
  },
  {
   "cell_type": "code",
   "execution_count": 2,
   "id": "40e0ec8e-f99d-4402-a2ac-7517f2fbe981",
   "metadata": {},
   "outputs": [],
   "source": [
    "from CodeEntropy.IO import MDAUniverseHelper as MDAHelper\n",
    "# since this trajectory only contains the DNA strand\n",
    "selection_string_pre_process = 'all'\n",
    "start = 3\n",
    "end = 40\n",
    "step = 1\n",
    "\n",
    "reduced_frame = MDAHelper.new_U_select_frame(u,  start, end, step)\n",
    "\n",
    "reduced_atom = MDAHelper.new_U_select_atom(reduced_frame, selection_string_pre_process)\n",
    "\n"
   ]
  },
  {
   "cell_type": "markdown",
   "id": "d96a9e6f-488b-4c40-8fa7-961161c17aab",
   "metadata": {},
   "source": [
    "3. parse the data into a CodeEntropy data object"
   ]
  },
  {
   "cell_type": "code",
   "execution_count": 3,
   "id": "623181d4-78ee-40fa-bf74-bd25ad0ba241",
   "metadata": {},
   "outputs": [
    {
     "name": "stdout",
     "output_type": "stream",
     "text": [
      "Number of atoms      : 254\n",
      "Number of frames     : 37\n"
     ]
    }
   ],
   "source": [
    "from CodeEntropy.ClassCollection import DataContainer as DC\n",
    "dataContainer = DC.DataContainer(reduced_atom)"
   ]
  },
  {
   "cell_type": "markdown",
   "id": "3ea1095d-674d-4760-9de5-ff1978b51710",
   "metadata": {},
   "source": [
    "## Performing calculation\n",
    "The total entropy for a system is taken as the sum of seven terms:\n",
    "$S_{total} = S^{transvib}_{WM} + S^{rovib}_{WM} + S^{transvib}_{R} + S^{rovib}_{R} + S^{transvib}_{UA} + S^{rovib}_{UA} + S^{topo}_{UA}$"
   ]
  },
  {
   "cell_type": "markdown",
   "id": "0b9e3646-c608-4f4d-8d5f-077aceeccb22",
   "metadata": {},
   "source": [
    "### Set Parameters"
   ]
  },
  {
   "cell_type": "code",
   "execution_count": 4,
   "id": "c7a0ca03-4866-4972-a4eb-cab26addc5bb",
   "metadata": {},
   "outputs": [],
   "source": [
    "from CodeEntropy.FunctionCollection import EntropyFunctions as EF\n",
    "#Only the part of interest remained\n",
    "selection_string = \"all\"\n",
    "outfile = None\n",
    "moutFile = None\n",
    "nmdFile = None\n",
    "csv_out = None\n",
    "tScale = 1.0\n",
    "fScale = 1.0\n",
    "temper = 300.0 #K\n",
    "verbose = 3\n",
    "thread = 4"
   ]
  },
  {
   "cell_type": "markdown",
   "id": "226c0598-833b-478d-9f02-b288e42903c9",
   "metadata": {},
   "source": [
    "### Whole-molecule Level \n",
    "$S^{transvib}_{WM} + S^{rovib}_{WM}$"
   ]
  },
  {
   "cell_type": "code",
   "execution_count": 5,
   "id": "6964e070-ac24-42da-9efc-42e8723524ce",
   "metadata": {},
   "outputs": [
    {
     "name": "stdout",
     "output_type": "stream",
     "text": [
      "------------------------------------------------------------\n",
      "          Hierarchy level. --> Whole molecule <--           \n",
      "------------------------------------------------------------\n",
      "Total number of beads at the whole molecule level = 1\n",
      "Assigning Translation and Rotation Axes @ whole molecule level-> Done\n",
      "Updating Local coordinates-> Done\n",
      "Updating Local forces-> Done\n",
      "Updating Local torques-> Done\n",
      "Weighting forces and torques-> Done\n",
      "Updating the submatrices ... \n",
      "Finished updating submatrix FF\n",
      "Finished updating submatrix TT\n",
      "Done\n",
      "Generating Quadrants-> Done\n",
      "Diagonalizing-> Done\n",
      "Changing the units of eigen values to SI units-> Done\n",
      "Sorting spectrum in ascending order of frequencies-> Done\n",
      "Entropy values:\n",
      "FF Entropy (Whole mol level)             : 48.3941 J/mol/K\n",
      "TT Entropy (Whole mol level)             : 43.5001 J/mol/K\n",
      "wm_entropyFF = 48.39410817515473\n",
      "wm_entropyTT = 43.50008156137957\n"
     ]
    }
   ],
   "source": [
    "wm_entropyFF, wm_entropyTT = EF.compute_entropy_whole_molecule_level(\n",
    "    arg_hostDataContainer = dataContainer,\n",
    "    arg_outFile = outfile,\n",
    "    arg_selector = selection_string, \n",
    "    arg_moutFile = moutFile,\n",
    "    arg_nmdFile = nmdFile,\n",
    "    arg_fScale = fScale,\n",
    "    arg_tScale = tScale,\n",
    "    arg_temper = temper,\n",
    "    arg_verbose = verbose\n",
    ")\n",
    "print(f\"wm_entropyFF = {wm_entropyFF}\")\n",
    "print(f\"wm_entropyTT = {wm_entropyTT}\")"
   ]
  },
  {
   "cell_type": "markdown",
   "id": "211e89f3-e216-4e25-bd36-cf314126c65c",
   "metadata": {},
   "source": [
    "### Residue level\n",
    "$S^{transvib}_{R} + S^{rovib}_{R}$"
   ]
  },
  {
   "cell_type": "code",
   "execution_count": 6,
   "id": "4fdb9d29-78e9-4831-bb4a-d53e31d94e39",
   "metadata": {},
   "outputs": [
    {
     "name": "stdout",
     "output_type": "stream",
     "text": [
      "------------------------------------------------------------\n",
      "             Hierarchy level. --> Residues <--              \n",
      "------------------------------------------------------------\n",
      "DA1\n",
      "DA2\n",
      "DA3\n",
      "DA4\n",
      "DT5\n",
      "DT6\n",
      "DT7\n",
      "DT8\n",
      "Total number of beads at the residue level = 8\n",
      "Assigning Translation Axes @ residue level-> Done\n",
      "Assigning Rotational Axes @ residue level->\n",
      "    1     2     3     4     5 \n",
      "    6     7     8 \n",
      "Done\n",
      "Updating Local forces-> Done\n",
      "Updating Local coordinates-> Done\n",
      "Updating Local torques-> Done\n",
      "Weighting forces and torques-> Done\n",
      "Updating the submatrices ... \n",
      "Finished updating submatrix FF\n",
      "Finished updating submatrix TT\n",
      "Done\n",
      "Generating Quadrants-> Done\n",
      "Diagonalizing-> Done\n",
      "Changing the units of eigen values to SI units-> Done\n",
      "Sorting spectrum in ascending order of frequencies-> Done\n",
      "Entropy values:\n",
      "FF Entropy (Residue level)               : 201.0312 J/mol/K\n",
      "TT Entropy (Residue level)               : 302.3659 J/mol/K\n",
      "res_entropyFF = 201.0311626904509\n",
      "res_entropyTT = 302.36594405498477\n"
     ]
    }
   ],
   "source": [
    "res_entropyFF, res_entropyTT = EF.compute_entropy_residue_level(\n",
    "    arg_hostDataContainer = dataContainer,\n",
    "    arg_outFile = outfile,\n",
    "    arg_selector = selection_string, \n",
    "    arg_moutFile = moutFile,\n",
    "    arg_nmdFile = nmdFile,\n",
    "    arg_fScale = fScale,\n",
    "    arg_tScale = tScale,\n",
    "    arg_temper = temper,\n",
    "    arg_verbose = verbose,\n",
    ")\n",
    "\n",
    "print(f\"res_entropyFF = {res_entropyFF}\")\n",
    "print(f\"res_entropyTT = {res_entropyTT}\")"
   ]
  },
  {
   "cell_type": "markdown",
   "id": "bcc345e5-0bed-430e-bde8-6141bcbd18c4",
   "metadata": {},
   "source": [
    "### United Atom Level\n",
    "$S^{transvib}_{UA} + S^{rovib}_{UA}$"
   ]
  },
  {
   "cell_type": "code",
   "execution_count": 7,
   "id": "1b71a4c3-bfe5-47e9-8206-a362479d1883",
   "metadata": {
    "tags": []
   },
   "outputs": [
    {
     "name": "stdout",
     "output_type": "stream",
     "text": [
      "------------------------------------------------------------\n",
      "            Hierarchy level. --> United Atom <--            \n",
      "------------------------------------------------------------\n",
      "Working on resid : DA1\n",
      "Total number of UA beads in residue DA1 : 18\n",
      "Assigning Translation Axes at the UA level-> Done\n",
      "Assigning Rotational Axes at the UA level-> Done\n",
      "Updating Local forces-> Done\n",
      "Updating Local torques-> Done\n",
      "Weighting forces and torques-> Done\n",
      "Updating the submatrices ... \n",
      "Finished updating submatrix FF\n",
      "Finished updating submatrix TT\n",
      "Done\n",
      "Generating Quadrants-> Done\n",
      "A shape change has occured (54,54) -> (21, 21)\n",
      "Diagonalizing-> Done\n",
      "Changing the units of eigen values to SI units-> Done\n",
      "Sorting spectrum in ascending order of frequencies-> Done\n",
      "Entropy values:\n",
      "FF Entropy (UA for DA1)                  : 41.3414 J/mol/K\n",
      "TT Entropy (UA for DA1)                  : 22.6489 J/mol/K\n",
      "\n",
      "\n",
      "\n",
      "Working on resid : DA2\n",
      "Total number of UA beads in residue DA2 : 21\n",
      "Assigning Translation Axes at the UA level-> Done\n",
      "Assigning Rotational Axes at the UA level-> Done\n",
      "Updating Local forces-> Done\n",
      "Updating Local torques-> Done\n",
      "Weighting forces and torques-> Done\n",
      "Updating the submatrices ... \n",
      "Finished updating submatrix FF\n",
      "Finished updating submatrix TT\n",
      "Done\n",
      "Generating Quadrants-> Done\n",
      "A shape change has occured (63,63) -> (19, 19)\n",
      "Diagonalizing-> Done\n",
      "Changing the units of eigen values to SI units-> Done\n",
      "Sorting spectrum in ascending order of frequencies-> Done\n",
      "Entropy values:\n",
      "FF Entropy (UA for DA2)                  : 27.8037 J/mol/K\n",
      "TT Entropy (UA for DA2)                  : 20.6152 J/mol/K\n",
      "\n",
      "\n",
      "\n",
      "Working on resid : DA3\n",
      "Total number of UA beads in residue DA3 : 21\n",
      "Assigning Translation Axes at the UA level-> Done\n",
      "Assigning Rotational Axes at the UA level-> Done\n",
      "Updating Local forces-> Done\n",
      "Updating Local torques-> Done\n",
      "Weighting forces and torques-> Done\n",
      "Updating the submatrices ... \n",
      "Finished updating submatrix FF\n",
      "Finished updating submatrix TT\n",
      "Done\n",
      "Generating Quadrants-> Done\n",
      "A shape change has occured (63,63) -> (19, 19)\n",
      "Diagonalizing-> Done\n",
      "Changing the units of eigen values to SI units-> Done\n",
      "Sorting spectrum in ascending order of frequencies-> Done\n",
      "Entropy values:\n",
      "FF Entropy (UA for DA3)                  : 31.0414 J/mol/K\n",
      "TT Entropy (UA for DA3)                  : 23.6253 J/mol/K\n",
      "\n",
      "\n",
      "\n",
      "Working on resid : DA4\n",
      "Total number of UA beads in residue DA4 : 21\n",
      "Assigning Translation Axes at the UA level-> Done\n",
      "Assigning Rotational Axes at the UA level-> Done\n",
      "Updating Local forces-> Done\n",
      "Updating Local torques-> Done\n",
      "Weighting forces and torques-> Done\n",
      "Updating the submatrices ... \n",
      "Finished updating submatrix FF\n",
      "Finished updating submatrix TT\n",
      "Done\n",
      "Generating Quadrants-> Done\n",
      "A shape change has occured (63,63) -> (21, 21)\n",
      "Diagonalizing-> Done\n",
      "Changing the units of eigen values to SI units-> Done\n",
      "Sorting spectrum in ascending order of frequencies-> Done\n",
      "Entropy values:\n",
      "FF Entropy (UA for DA4)                  : 35.8389 J/mol/K\n",
      "TT Entropy (UA for DA4)                  : 23.6248 J/mol/K\n",
      "\n",
      "\n",
      "\n",
      "Working on resid : DT5\n",
      "Total number of UA beads in residue DT5 : 17\n",
      "Assigning Translation Axes at the UA level-> Done\n",
      "Assigning Rotational Axes at the UA level-> Done\n",
      "Updating Local forces-> Done\n",
      "Updating Local torques-> Done\n",
      "Weighting forces and torques-> Done\n",
      "Updating the submatrices ... \n",
      "Finished updating submatrix FF\n",
      "Finished updating submatrix TT\n",
      "Done\n",
      "Generating Quadrants-> Done\n",
      "A shape change has occured (51,51) -> (21, 21)\n",
      "Diagonalizing-> Done\n",
      "Changing the units of eigen values to SI units-> Done\n",
      "Sorting spectrum in ascending order of frequencies-> Done\n",
      "Entropy values:\n",
      "FF Entropy (UA for DT5)                  : 52.1612 J/mol/K\n",
      "TT Entropy (UA for DT5)                  : 36.7715 J/mol/K\n",
      "\n",
      "\n",
      "\n",
      "Working on resid : DT6\n",
      "Total number of UA beads in residue DT6 : 20\n",
      "Assigning Translation Axes at the UA level-> Done\n",
      "Assigning Rotational Axes at the UA level-> Done\n",
      "Updating Local forces-> Done\n",
      "Updating Local torques-> Done\n",
      "Weighting forces and torques-> Done\n",
      "Updating the submatrices ... \n",
      "Finished updating submatrix FF\n",
      "Finished updating submatrix TT\n",
      "Done\n",
      "Generating Quadrants-> Done\n",
      "A shape change has occured (60,60) -> (19, 19)\n",
      "Diagonalizing-> Done\n",
      "Changing the units of eigen values to SI units-> Done\n",
      "Sorting spectrum in ascending order of frequencies-> Done\n",
      "Entropy values:\n",
      "FF Entropy (UA for DT6)                  : 37.1918 J/mol/K\n",
      "TT Entropy (UA for DT6)                  : 26.3445 J/mol/K\n",
      "\n",
      "\n",
      "\n",
      "Working on resid : DT7\n",
      "Total number of UA beads in residue DT7 : 20\n",
      "Assigning Translation Axes at the UA level-> Done\n",
      "Assigning Rotational Axes at the UA level-> Done\n",
      "Updating Local forces-> Done\n",
      "Updating Local torques-> Done\n",
      "Weighting forces and torques-> Done\n",
      "Updating the submatrices ... \n",
      "Finished updating submatrix FF\n",
      "Finished updating submatrix TT\n",
      "Done\n",
      "Generating Quadrants-> Done\n",
      "A shape change has occured (60,60) -> (19, 19)\n",
      "Diagonalizing-> Done\n",
      "Changing the units of eigen values to SI units-> Done\n",
      "Sorting spectrum in ascending order of frequencies-> Done\n",
      "Entropy values:\n",
      "FF Entropy (UA for DT7)                  : 37.6114 J/mol/K\n",
      "TT Entropy (UA for DT7)                  : 27.3633 J/mol/K\n",
      "\n",
      "\n",
      "\n",
      "Working on resid : DT8\n",
      "Total number of UA beads in residue DT8 : 20\n",
      "Assigning Translation Axes at the UA level-> Done\n",
      "Assigning Rotational Axes at the UA level-> Done\n",
      "Updating Local forces-> Done\n",
      "Updating Local torques-> Done\n",
      "Weighting forces and torques-> Done\n",
      "Updating the submatrices ... \n",
      "Finished updating submatrix FF\n",
      "Finished updating submatrix TT\n",
      "Done\n",
      "Generating Quadrants-> Done\n",
      "A shape change has occured (60,60) -> (21, 21)\n",
      "Diagonalizing-> Done\n",
      "Changing the units of eigen values to SI units-> Done\n",
      "Sorting spectrum in ascending order of frequencies-> Done\n",
      "Entropy values:\n",
      "FF Entropy (UA for DT8)                  : 34.5377 J/mol/K\n",
      "TT Entropy (UA for DT8)                  : 33.6917 J/mol/K\n",
      "\n",
      "\n",
      "\n",
      "------------------------------------------------------------\n",
      "Total Entropy FF (UA level) :         297.527 J/mol/K\n",
      "Total Entropy TT (UA level) :         214.685 J/mol/K\n",
      "------------------------------------------------------------\n",
      "UA_entropyFF = 297.52747450744346\n",
      "UA_entropyTT = 214.68518956812648\n",
      "Per residue entropy:\n",
      "  RESNAME  RESID  FF_ENTROPY(J/mol/K)  TT_ENTROPY(J/mol/K)\n",
      "0      DA      1            41.341433            22.648880\n",
      "1      DA      2            27.803651            20.615160\n",
      "2      DA      3            31.041423            23.625295\n",
      "3      DA      4            35.838894            23.624781\n",
      "4      DT      5            52.161242            36.771516\n",
      "5      DT      6            37.191782            26.344506\n",
      "6      DT      7            37.611364            27.363316\n",
      "7      DT      8            34.537686            33.691735\n"
     ]
    }
   ],
   "source": [
    "UA_entropyFF, UA_entropyTT, res_df = EF.compute_entropy_UA_level(\n",
    "    arg_hostDataContainer = dataContainer,\n",
    "    arg_outFile = outfile,\n",
    "    arg_selector = selection_string, \n",
    "    arg_moutFile = moutFile,\n",
    "    arg_nmdFile = nmdFile,\n",
    "    arg_fScale = fScale,\n",
    "    arg_tScale = tScale,\n",
    "    arg_temper = temper,\n",
    "    arg_verbose = verbose,\n",
    "    arg_csv_out= csv_out,\n",
    ")\n",
    "print(f\"UA_entropyFF = {UA_entropyFF}\")\n",
    "print(f\"UA_entropyTT = {UA_entropyTT}\")\n",
    "print(\"Per residue entropy:\")\n",
    "print(res_df)"
   ]
  },
  {
   "cell_type": "markdown",
   "id": "1c26addd-af9a-484f-9f52-c0773f6aca3e",
   "metadata": {},
   "source": [
    "#### United Atom Level Multi process\n",
    "Use Multiple thread to speed up operation"
   ]
  },
  {
   "cell_type": "code",
   "execution_count": 9,
   "id": "e7791d28-7ef4-4352-a939-fd8d2d7e5d43",
   "metadata": {
    "tags": []
   },
   "outputs": [
    {
     "name": "stdout",
     "output_type": "stream",
     "text": [
      "Finished updating submatrix FF\n",
      "Finished updating submatrix TT\n",
      "A shape change has occured (54,54) -> (21, 21)\n",
      "\n",
      "\n",
      "\n",
      "Finished updating submatrix FF\n",
      "Finished updating submatrix FF\n",
      "Finished updating submatrix FF\n",
      "Finished updating submatrix TT\n",
      "Finished updating submatrix TT\n",
      "A shape change has occured (63,63) -> (19, 19)A shape change has occured (63,63) -> (19, 19)\n",
      "\n",
      "\n",
      "\n",
      "\n",
      "\n",
      "\n",
      "\n",
      "Finished updating submatrix TT\n",
      "A shape change has occured (63,63) -> (21, 21)\n",
      "\n",
      "\n",
      "\n",
      "Finished updating submatrix FF\n",
      "Finished updating submatrix TT\n",
      "A shape change has occured (51,51) -> (21, 21)\n",
      "\n",
      "\n",
      "\n",
      "Finished updating submatrix FF\n",
      "Finished updating submatrix TT\n",
      "Finished updating submatrix FF\n",
      "A shape change has occured (60,60) -> (19, 19)\n",
      "\n",
      "\n",
      "\n",
      "Finished updating submatrix FF\n",
      "Finished updating submatrix TT\n",
      "A shape change has occured (60,60) -> (19, 19)\n",
      "\n",
      "\n",
      "\n",
      "Finished updating submatrix TT\n",
      "A shape change has occured (60,60) -> (21, 21)\n",
      "\n",
      "\n",
      "\n",
      "  RESNAME  RESID  FF_ENTROPY(J/mol/K)  TT_ENTROPY(J/mol/K)\n",
      "0      DA      1            41.341433            22.648880\n",
      "1      DA      2            27.803651            20.615160\n",
      "2      DA      3            31.041423            23.625295\n",
      "3      DA      4            35.838894            23.624781\n",
      "4      DT      5            52.161242            36.771516\n",
      "5      DT      6            37.191782            26.344506\n",
      "6      DT      7            37.611364            27.363316\n",
      "7      DT      8            34.537686            33.691735\n",
      "UA_entropyFF = 297.52747450744346\n",
      "UA_entropyTT = 214.6851895681265\n",
      "Per residue entropy:\n",
      "  RESNAME  RESID  FF_ENTROPY(J/mol/K)  TT_ENTROPY(J/mol/K)\n",
      "0      DA      1            41.341433            22.648880\n",
      "1      DA      2            27.803651            20.615160\n",
      "2      DA      3            31.041423            23.625295\n",
      "3      DA      4            35.838894            23.624781\n",
      "4      DT      5            52.161242            36.771516\n",
      "5      DT      6            37.191782            26.344506\n",
      "6      DT      7            37.611364            27.363316\n",
      "7      DT      8            34.537686            33.691735\n"
     ]
    }
   ],
   "source": [
    "UA_entropyFF, UA_entropyTT, res_df = EF.compute_entropy_UA_level_multiprocess(\n",
    "    arg_hostDataContainer = dataContainer,\n",
    "    arg_outFile = outfile,\n",
    "    arg_selector = selection_string, \n",
    "    arg_moutFile = moutFile,\n",
    "    arg_nmdFile = nmdFile,\n",
    "    arg_fScale = fScale,\n",
    "    arg_tScale = tScale,\n",
    "    arg_temper = temper,\n",
    "    arg_verbose = verbose,\n",
    "    arg_csv_out= csv_out,\n",
    "    arg_thread= thread,\n",
    ")\n",
    "print(f\"UA_entropyFF = {UA_entropyFF}\")\n",
    "print(f\"UA_entropyTT = {UA_entropyTT}\")\n",
    "print(\"Per residue entropy:\")\n",
    "print(res_df)"
   ]
  },
  {
   "cell_type": "markdown",
   "id": "0acb332e-4983-4ff8-ae68-48a7e0b17ecb",
   "metadata": {},
   "source": [
    "### Topographical entropy\n",
    "$S^{topo}_{UA}$"
   ]
  },
  {
   "cell_type": "code",
   "execution_count": 11,
   "id": "ae1a1df9-8f19-4618-8e84-7403edf6905f",
   "metadata": {},
   "outputs": [
    {
     "name": "stdout",
     "output_type": "stream",
     "text": [
      "------------------------------------------------------------\n",
      "Topographical entropy of residue side chains \n",
      "computed using all the dihedrals with AEM method\n",
      "------------------------------------------------------------\n",
      "----------Working on resid : 1 (DA)----------\n",
      "Found 18 exclusive dihedrals in residue DA1\n",
      "Found 18 dihedrals which collectively acquire 7 unique conformers\n",
      "Residue Topographical Entropy from AEM (DA 1) : 12.7386\n",
      "----------Working on resid : 2 (DA)----------\n",
      "Found 20 exclusive dihedrals in residue DA2\n",
      "Found 20 dihedrals which collectively acquire 4 unique conformers\n",
      "Residue Topographical Entropy from AEM (DA 2) : 7.6987\n",
      "----------Working on resid : 3 (DA)----------\n",
      "Found 20 exclusive dihedrals in residue DA3\n",
      "Found 20 dihedrals which collectively acquire 2 unique conformers\n",
      "Residue Topographical Entropy from AEM (DA 3) : 2.8480\n",
      "----------Working on resid : 4 (DA)----------\n",
      "Found 19 exclusive dihedrals in residue DA4\n",
      "Found 19 dihedrals which collectively acquire 2 unique conformers\n",
      "Residue Topographical Entropy from AEM (DA 4) : 1.0331\n",
      "----------Working on resid : 5 (DT)----------\n",
      "Found 14 exclusive dihedrals in residue DT5\n",
      "Found 14 dihedrals which collectively acquire 4 unique conformers\n",
      "Residue Topographical Entropy from AEM (DT 5) : 7.8987\n",
      "----------Working on resid : 6 (DT)----------\n",
      "Found 16 exclusive dihedrals in residue DT6\n",
      "Found 16 dihedrals which collectively acquire 2 unique conformers\n",
      "Residue Topographical Entropy from AEM (DT 6) : 1.0331\n",
      "----------Working on resid : 7 (DT)----------\n",
      "Found 16 exclusive dihedrals in residue DT7\n",
      "Found 16 dihedrals which collectively acquire 2 unique conformers\n",
      "Residue Topographical Entropy from AEM (DT 7) : 1.0331\n",
      "----------Working on resid : 8 (DT)----------\n",
      "Found 15 exclusive dihedrals in residue DT8\n",
      "Found 15 dihedrals which collectively acquire 1 unique conformers\n",
      "Residue Topographical Entropy from AEM (DT 8) : -0.0000\n",
      "------------------------------------------------------------\n",
      "Total Topog. Entropy (AEM)               :          34.283\n",
      "------------------------------------------------------------\n",
      "result_entropyAEM = 34.283354621246964\n"
     ]
    }
   ],
   "source": [
    "result_entropyAEM = EF.compute_topographical_entropy_AEM(\n",
    "    arg_hostDataContainer = dataContainer, \n",
    "    arg_selector = selection_string,\n",
    "    arg_outFile = outfile, \n",
    "    arg_verbose = verbose\n",
    ")\n",
    "\n",
    "print(f\"result_entropyAEM = {result_entropyAEM}\")"
   ]
  },
  {
   "cell_type": "markdown",
   "id": "ead0f792-4665-4014-aa34-7f71656787a0",
   "metadata": {},
   "source": [
    "### Total Entropy"
   ]
  },
  {
   "cell_type": "code",
   "execution_count": 12,
   "id": "a71f0874-9ab2-4b6d-a3cb-00c8d3818544",
   "metadata": {},
   "outputs": [
    {
     "name": "stdout",
     "output_type": "stream",
     "text": [
      "Total Entropy = 1141.787315178787 J/mol/K\n"
     ]
    }
   ],
   "source": [
    "total = wm_entropyFF + wm_entropyTT + res_entropyFF + res_entropyTT + UA_entropyFF + UA_entropyTT + result_entropyAEM\n",
    "print(f\"Total Entropy = {total} J/mol/K\")"
   ]
  },
  {
   "cell_type": "code",
   "execution_count": null,
   "id": "ed3a3f9b-ee4b-4199-983b-57bce59c4b34",
   "metadata": {},
   "outputs": [],
   "source": []
  }
 ],
 "metadata": {
  "kernelspec": {
   "display_name": "Python 3 (ipykernel)",
   "language": "python",
   "name": "python3"
  },
  "language_info": {
   "codemirror_mode": {
    "name": "ipython",
    "version": 3
   },
   "file_extension": ".py",
   "mimetype": "text/x-python",
   "name": "python",
   "nbconvert_exporter": "python",
   "pygments_lexer": "ipython3",
   "version": "3.8.10"
  }
 },
 "nbformat": 4,
 "nbformat_minor": 5
}
