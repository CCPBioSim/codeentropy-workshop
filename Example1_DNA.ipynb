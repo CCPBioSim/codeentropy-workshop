{
 "cells": [
  {
   "cell_type": "markdown",
   "id": "68093ba0-442f-4a4a-b260-4fc51403ad13",
   "metadata": {
    "tags": []
   },
   "source": [
    "# Calculating entropy of DNA strand (Solute)"
   ]
  },
  {
   "cell_type": "markdown",
   "id": "eee6cbca-b665-4e09-84ee-b92ac335c832",
   "metadata": {},
   "source": [
    "## Loading Data\n",
    "1. Load your data into a MDAnalysis Universe. "
   ]
  },
  {
   "cell_type": "code",
   "execution_count": null,
   "id": "9b35a790-7289-4a08-b645-e4854ba311fb",
   "metadata": {},
   "outputs": [],
   "source": [
    "import MDAnalysis as mda\n",
    "# set the working dir to the root of repo inorder to use these path\n",
    "tprfile = \"data/md_A4_dna.tpr\"\n",
    "trrfile = \"data/md_A4_dna_xf.trr\"\n",
    "u = mda.Universe(tprfile, trrfile)"
   ]
  },
  {
   "cell_type": "markdown",
   "id": "9d47f142-c8ef-4041-8ad4-71e27c8b752d",
   "metadata": {},
   "source": [
    "2. Trim the data to reduce analysis time"
   ]
  },
  {
   "cell_type": "code",
   "execution_count": null,
   "id": "40e0ec8e-f99d-4402-a2ac-7517f2fbe981",
   "metadata": {},
   "outputs": [],
   "source": [
    "from CodeEntropy.IO import MDAUniverseHelper as MDAHelper\n",
    "# since this trajectory only contains the DNA strand\n",
    "selection_string_pre_process = 'all'\n",
    "start = 3\n",
    "end = 40\n",
    "step = 1\n",
    "\n",
    "reduced_frame = MDAHelper.new_U_select_frame(u,  start, end, step)\n",
    "\n",
    "reduced_atom = MDAHelper.new_U_select_atom(reduced_frame, selection_string_pre_process)\n",
    "\n"
   ]
  },
  {
   "cell_type": "markdown",
   "id": "d96a9e6f-488b-4c40-8fa7-961161c17aab",
   "metadata": {},
   "source": [
    "3. parse the data into a CodeEntropy data object"
   ]
  },
  {
   "cell_type": "code",
   "execution_count": null,
   "id": "623181d4-78ee-40fa-bf74-bd25ad0ba241",
   "metadata": {},
   "outputs": [],
   "source": [
    "from CodeEntropy.ClassCollection import DataContainer as DC\n",
    "dataContainer = DC.DataContainer(reduced_atom)"
   ]
  },
  {
   "cell_type": "markdown",
   "id": "3ea1095d-674d-4760-9de5-ff1978b51710",
   "metadata": {},
   "source": [
    "## Performing calculation\n",
    "The total entropy for a system is taken as the sum of seven terms:\n",
    "$S_{total} = S^{transvib}_{WM} + S^{rovib}_{WM} + S^{transvib}_{R} + S^{rovib}_{R} + S^{transvib}_{UA} + S^{rovib}_{UA} + S^{topo}_{UA}$"
   ]
  },
  {
   "cell_type": "markdown",
   "id": "0b9e3646-c608-4f4d-8d5f-077aceeccb22",
   "metadata": {},
   "source": [
    "### Set Parameters"
   ]
  },
  {
   "cell_type": "code",
   "execution_count": null,
   "id": "c7a0ca03-4866-4972-a4eb-cab26addc5bb",
   "metadata": {},
   "outputs": [],
   "source": [
    "from CodeEntropy.FunctionCollection import EntropyFunctions as EF\n",
    "#Only the part of interest remained\n",
    "selection_string = \"all\"\n",
    "outfile = None\n",
    "moutFile = None\n",
    "nmdFile = None\n",
    "csv_out = None\n",
    "tScale = 1.0\n",
    "fScale = 1.0\n",
    "temper = 300.0 #K\n",
    "verbose = 3\n",
    "thread = 4"
   ]
  },
  {
   "cell_type": "markdown",
   "id": "226c0598-833b-478d-9f02-b288e42903c9",
   "metadata": {},
   "source": [
    "### Whole-molecule Level \n",
    "$S^{transvib}_{WM} + S^{rovib}_{WM}$"
   ]
  },
  {
   "cell_type": "code",
   "execution_count": null,
   "id": "6964e070-ac24-42da-9efc-42e8723524ce",
   "metadata": {},
   "outputs": [],
   "source": [
    "wm_entropyFF, wm_entropyTT = EF.compute_entropy_whole_molecule_level(\n",
    "    arg_hostDataContainer = dataContainer,\n",
    "    arg_outFile = outfile,\n",
    "    arg_selector = selection_string, \n",
    "    arg_moutFile = moutFile,\n",
    "    arg_nmdFile = nmdFile,\n",
    "    arg_fScale = fScale,\n",
    "    arg_tScale = tScale,\n",
    "    arg_temper = temper,\n",
    "    arg_verbose = verbose\n",
    ")\n",
    "print(f\"wm_entropyFF = {wm_entropyFF}\")\n",
    "print(f\"wm_entropyTT = {wm_entropyTT}\")"
   ]
  },
  {
   "cell_type": "markdown",
   "id": "211e89f3-e216-4e25-bd36-cf314126c65c",
   "metadata": {},
   "source": [
    "### Residue level\n",
    "$S^{transvib}_{R} + S^{rovib}_{R}$"
   ]
  },
  {
   "cell_type": "code",
   "execution_count": null,
   "id": "4fdb9d29-78e9-4831-bb4a-d53e31d94e39",
   "metadata": {},
   "outputs": [],
   "source": [
    "res_entropyFF, res_entropyTT = EF.compute_entropy_residue_level(\n",
    "    arg_hostDataContainer = dataContainer,\n",
    "    arg_outFile = outfile,\n",
    "    arg_selector = selection_string, \n",
    "    arg_moutFile = moutFile,\n",
    "    arg_nmdFile = nmdFile,\n",
    "    arg_fScale = fScale,\n",
    "    arg_tScale = tScale,\n",
    "    arg_temper = temper,\n",
    "    arg_verbose = verbose,\n",
    ")\n",
    "\n",
    "print(f\"res_entropyFF = {res_entropyFF}\")\n",
    "print(f\"res_entropyTT = {res_entropyTT}\")"
   ]
  },
  {
   "cell_type": "markdown",
   "id": "bcc345e5-0bed-430e-bde8-6141bcbd18c4",
   "metadata": {},
   "source": [
    "### United Atom Level\n",
    "$S^{transvib}_{UA} + S^{rovib}_{UA}$"
   ]
  },
  {
   "cell_type": "code",
   "execution_count": null,
   "id": "1b71a4c3-bfe5-47e9-8206-a362479d1883",
   "metadata": {
    "tags": []
   },
   "outputs": [],
   "source": [
    "UA_entropyFF, UA_entropyTT, res_df = EF.compute_entropy_UA_level(\n",
    "    arg_hostDataContainer = dataContainer,\n",
    "    arg_outFile = outfile,\n",
    "    arg_selector = selection_string, \n",
    "    arg_moutFile = moutFile,\n",
    "    arg_nmdFile = nmdFile,\n",
    "    arg_fScale = fScale,\n",
    "    arg_tScale = tScale,\n",
    "    arg_temper = temper,\n",
    "    arg_verbose = verbose,\n",
    "    arg_csv_out= csv_out,\n",
    ")\n",
    "print(f\"UA_entropyFF = {UA_entropyFF}\")\n",
    "print(f\"UA_entropyTT = {UA_entropyTT}\")\n",
    "print(\"Per residue entropy:\")\n",
    "print(res_df)"
   ]
  },
  {
   "cell_type": "markdown",
   "id": "1c26addd-af9a-484f-9f52-c0773f6aca3e",
   "metadata": {},
   "source": [
    "#### United Atom Level Multi process\n",
    "Use Multiple thread to speed up operation"
   ]
  },
  {
   "cell_type": "code",
   "execution_count": null,
   "id": "e7791d28-7ef4-4352-a939-fd8d2d7e5d43",
   "metadata": {
    "tags": []
   },
   "outputs": [],
   "source": [
    "UA_entropyFF, UA_entropyTT, res_df = EF.compute_entropy_UA_level_multiprocess(\n",
    "    arg_hostDataContainer = dataContainer,\n",
    "    arg_outFile = outfile,\n",
    "    arg_selector = selection_string, \n",
    "    arg_moutFile = moutFile,\n",
    "    arg_nmdFile = nmdFile,\n",
    "    arg_fScale = fScale,\n",
    "    arg_tScale = tScale,\n",
    "    arg_temper = temper,\n",
    "    arg_verbose = verbose,\n",
    "    arg_csv_out= csv_out,\n",
    "    arg_thread= thread,\n",
    ")\n",
    "print(f\"UA_entropyFF = {UA_entropyFF}\")\n",
    "print(f\"UA_entropyTT = {UA_entropyTT}\")\n",
    "print(\"Per residue entropy:\")\n",
    "print(res_df)"
   ]
  },
  {
   "cell_type": "markdown",
   "id": "0acb332e-4983-4ff8-ae68-48a7e0b17ecb",
   "metadata": {},
   "source": [
    "### Topographical entropy\n",
    "$S^{topo}_{UA}$"
   ]
  },
  {
   "cell_type": "code",
   "execution_count": null,
   "id": "ae1a1df9-8f19-4618-8e84-7403edf6905f",
   "metadata": {},
   "outputs": [],
   "source": [
    "result_entropyAEM = EF.compute_topographical_entropy_AEM(\n",
    "    arg_hostDataContainer = dataContainer, \n",
    "    arg_selector = selection_string,\n",
    "    arg_outFile = outfile, \n",
    "    arg_verbose = verbose\n",
    ")\n",
    "\n",
    "print(f\"result_entropyAEM = {result_entropyAEM}\")"
   ]
  },
  {
   "cell_type": "markdown",
   "id": "ead0f792-4665-4014-aa34-7f71656787a0",
   "metadata": {},
   "source": [
    "### Total Entropy"
   ]
  },
  {
   "cell_type": "code",
   "execution_count": null,
   "id": "a71f0874-9ab2-4b6d-a3cb-00c8d3818544",
   "metadata": {},
   "outputs": [],
   "source": [
    "total = wm_entropyFF + wm_entropyTT + res_entropyFF + res_entropyTT + UA_entropyFF + UA_entropyTT + result_entropyAEM\n",
    "print(f\"Total Entropy = {total} J/mol/K\")"
   ]
  },
  {
   "cell_type": "code",
   "execution_count": null,
   "id": "ed3a3f9b-ee4b-4199-983b-57bce59c4b34",
   "metadata": {},
   "outputs": [],
   "source": []
  }
 ],
 "metadata": {
  "kernelspec": {
   "display_name": "Python 3 (ipykernel)",
   "language": "python",
   "name": "python3"
  },
  "language_info": {
   "codemirror_mode": {
    "name": "ipython",
    "version": 3
   },
   "file_extension": ".py",
   "mimetype": "text/x-python",
   "name": "python",
   "nbconvert_exporter": "python",
   "pygments_lexer": "ipython3",
   "version": "3.8.10"
  }
 },
 "nbformat": 4,
 "nbformat_minor": 5
}
