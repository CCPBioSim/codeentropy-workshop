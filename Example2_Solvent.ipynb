{
 "cells": [
  {
   "cell_type": "markdown",
   "id": "b062a235-be79-4897-9f63-73f3d5fa411d",
   "metadata": {},
   "source": [
    "# Calculate Solvent Entropy for a capped amino acid (Solvent)"
   ]
  },
  {
   "cell_type": "markdown",
   "id": "7ab57875-f604-491b-a08d-85cb5386f9e3",
   "metadata": {},
   "source": [
    "## Load Data"
   ]
  },
  {
   "cell_type": "markdown",
   "id": "3fb95f32-d4ff-46a1-b6a8-dea0011f07a4",
   "metadata": {},
   "source": [
    "1. Load data into MDAnalysis Universe"
   ]
  },
  {
   "cell_type": "code",
   "execution_count": null,
   "id": "fadb5a2e-d401-418f-bf43-5bb1771d052e",
   "metadata": {},
   "outputs": [],
   "source": [
    "import MDAnalysis as mda\n",
    "# set the working dir to the root of repo inorder to use these path\n",
    "tprfile = \"data/molecules.prmtop\"\n",
    "trrfile = \"data/data.trr\"\n",
    "u = mda.Universe(tprfile, trrfile)"
   ]
  },
  {
   "cell_type": "markdown",
   "id": "289d84e8-c4f5-48d2-8c91-6c9d7243a351",
   "metadata": {},
   "source": [
    "2. Load data into POSEIDON object"
   ]
  },
  {
   "cell_type": "code",
   "execution_count": null,
   "id": "b6a0fd0c-2bb1-4c90-a90b-b094a976ee3b",
   "metadata": {},
   "outputs": [],
   "source": [
    "from CodeEntropy.ClassCollection.PoseidonClass import Poseidon\n",
    "poseidon_object = Poseidon(container=u, start=0, end=40)"
   ]
  },
  {
   "cell_type": "markdown",
   "id": "5fd37e4e-1fc5-4a30-84b3-863f19cbb0b6",
   "metadata": {
    "tags": []
   },
   "source": [
    "## Calculate Entropy"
   ]
  },
  {
   "cell_type": "markdown",
   "id": "41cc97b9-e89d-431c-9991-00a39f69f2a2",
   "metadata": {
    "tags": []
   },
   "source": [
    "### Whole Molecule level"
   ]
  },
  {
   "cell_type": "code",
   "execution_count": null,
   "id": "f5f77c6b-2b32-4321-9fab-f597f6371ac4",
   "metadata": {},
   "outputs": [],
   "source": [
    "result_wm = poseidon_object.run_analysis(level_list = ['moleculeLevel'], verbose=False, forceUnits=\"Kcal\") # this is because the forces value supplied in this trajectory is in Kcal\n",
    "print(result_wm)"
   ]
  },
  {
   "cell_type": "markdown",
   "id": "6899945c-edb3-408c-a0ae-4035895b50e9",
   "metadata": {},
   "source": [
    "### Residue Level"
   ]
  },
  {
   "cell_type": "code",
   "execution_count": null,
   "id": "2a32bbeb-0033-4958-84d6-cf05266b486d",
   "metadata": {},
   "outputs": [],
   "source": [
    "result_res = poseidon_object.run_analysis(level_list = ['residLevel_resname'], verbose=False, forceUnits=\"Kcal\") # this is because the forces value supplied in this trajectory is in Kcal\n",
    "print(result_res)"
   ]
  },
  {
   "cell_type": "markdown",
   "id": "81e7011e-3dc9-4115-932f-0bbad538ae0a",
   "metadata": {},
   "source": [
    "### United Atom Level"
   ]
  },
  {
   "cell_type": "code",
   "execution_count": null,
   "id": "33ebd4aa-d117-4812-b7e8-1faed30c88e0",
   "metadata": {},
   "outputs": [],
   "source": [
    "result_ua = poseidon_object.run_analysis(level_list = ['atomLevel'], verbose=False, forceUnits=\"Kcal\") # this is because the forces value supplied in this trajectory is in Kcal\n",
    "print(result_ua)"
   ]
  },
  {
   "cell_type": "markdown",
   "id": "0137f3df-31d8-49d6-abab-6bce5f1d2ca3",
   "metadata": {},
   "source": [
    "### Solute Contact"
   ]
  },
  {
   "cell_type": "code",
   "execution_count": null,
   "id": "27ca66f2-04c2-4471-9fa7-23b6d392c26b",
   "metadata": {},
   "outputs": [],
   "source": [
    "result_solcon = poseidon_object.run_analysis(level_list = ['soluteContacts'], verbose=False, forceUnits=\"Kcal\") # this is because the forces value supplied in this trajectory is in Kcal\n",
    "print(result_solcon)"
   ]
  },
  {
   "cell_type": "code",
   "execution_count": null,
   "id": "8bbbbf65-8e67-4a06-9e92-2d515e31567d",
   "metadata": {},
   "outputs": [],
   "source": []
  }
 ],
 "metadata": {
  "kernelspec": {
   "display_name": "Python 3 (ipykernel)",
   "language": "python",
   "name": "python3"
  },
  "language_info": {
   "codemirror_mode": {
    "name": "ipython",
    "version": 3
   },
   "file_extension": ".py",
   "mimetype": "text/x-python",
   "name": "python",
   "nbconvert_exporter": "python",
   "pygments_lexer": "ipython3",
   "version": "3.8.10"
  }
 },
 "nbformat": 4,
 "nbformat_minor": 5
}
