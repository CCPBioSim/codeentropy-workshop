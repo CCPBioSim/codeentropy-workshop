{
 "cells": [
  {
   "cell_type": "markdown",
   "id": "b062a235-be79-4897-9f63-73f3d5fa411d",
   "metadata": {},
   "source": [
    "# Calculate Solvent Entropy for a capped amino acid (Solvent)"
   ]
  },
  {
   "cell_type": "markdown",
   "id": "7ab57875-f604-491b-a08d-85cb5386f9e3",
   "metadata": {},
   "source": [
    "## Load Data"
   ]
  },
  {
   "cell_type": "markdown",
   "id": "3fb95f32-d4ff-46a1-b6a8-dea0011f07a4",
   "metadata": {},
   "source": [
    "1. Load data into MDAnalysis Universe"
   ]
  },
  {
   "cell_type": "code",
   "execution_count": 1,
   "id": "fadb5a2e-d401-418f-bf43-5bb1771d052e",
   "metadata": {},
   "outputs": [],
   "source": [
    "import MDAnalysis as mda\n",
    "# set the working dir to the root of repo inorder to use these path\n",
    "tprfile = \"data/molecules.prmtop\"\n",
    "trrfile = \"data/data.trr\"\n",
    "u = mda.Universe(tprfile, trrfile)"
   ]
  },
  {
   "cell_type": "markdown",
   "id": "289d84e8-c4f5-48d2-8c91-6c9d7243a351",
   "metadata": {},
   "source": [
    "2. Load data into POSEIDON object"
   ]
  },
  {
   "cell_type": "code",
   "execution_count": 2,
   "id": "b6a0fd0c-2bb1-4c90-a90b-b094a976ee3b",
   "metadata": {},
   "outputs": [
    {
     "name": "stdout",
     "output_type": "stream",
     "text": [
      "2023-09-08 15:30:12.587126\n",
      "frame = 0\n",
      "< Timestep 0 with unit cell dimensions [30.67833  30.40052  29.490604 90.       90.       90.      ] >\n",
      "0:00:04.183623\n",
      "frame = 1\n",
      "< Timestep 1 with unit cell dimensions [30.682182 30.404337 29.494312 90.       90.       90.      ] >\n",
      "0:00:07.344724\n",
      "frame = 2\n",
      "< Timestep 2 with unit cell dimensions [30.713255 30.435127 29.524178 90.       90.       90.      ] >\n",
      "0:00:10.885953\n",
      "frame = 3\n",
      "< Timestep 3 with unit cell dimensions [30.598316 30.321232 29.41369  90.       90.       90.      ] >\n",
      "0:00:14.719440\n",
      "frame = 4\n",
      "< Timestep 4 with unit cell dimensions [30.618622 30.341354 29.43321  90.       90.       90.      ] >\n",
      "0:00:19.149412\n",
      "frame = 5\n",
      "< Timestep 5 with unit cell dimensions [30.619095 30.341824 29.433666 90.       90.       90.      ] >\n",
      "0:00:22.854479\n",
      "frame = 6\n",
      "< Timestep 6 with unit cell dimensions [30.738136 30.459784 29.5481   90.       90.       90.      ] >\n",
      "0:00:26.286624\n",
      "frame = 7\n",
      "< Timestep 7 with unit cell dimensions [30.694881 30.416918 29.506514 90.       90.       90.      ] >\n",
      "0:00:29.463070\n",
      "frame = 8\n",
      "< Timestep 8 with unit cell dimensions [30.644718 30.36721  29.458292 90.       90.       90.      ] >\n",
      "0:00:32.740899\n",
      "frame = 9\n",
      "< Timestep 9 with unit cell dimensions [30.726116 30.447872 29.536541 90.       90.       90.      ] >\n",
      "0:00:36.087937\n",
      "frame = 10\n",
      "< Timestep 10 with unit cell dimensions [30.580582 30.303658 29.39664  90.       90.       90.      ] >\n",
      "0:00:39.268314\n",
      "frame = 11\n",
      "< Timestep 11 with unit cell dimensions [30.772951 30.494282 29.581562 90.       90.       90.      ] >\n",
      "0:00:42.487570\n",
      "frame = 12\n",
      "< Timestep 12 with unit cell dimensions [30.772266 30.493605 29.580906 90.       90.       90.      ] >\n",
      "0:00:45.625015\n",
      "frame = 13\n",
      "< Timestep 13 with unit cell dimensions [30.58512  30.308151 29.401005 90.       90.       90.      ] >\n",
      "0:00:48.768687\n",
      "frame = 14\n",
      "< Timestep 14 with unit cell dimensions [30.599762 30.322662 29.415077 90.       90.       90.      ] >\n",
      "0:00:52.371048\n",
      "frame = 15\n",
      "< Timestep 15 with unit cell dimensions [30.746477 30.468048 29.556114 90.       90.       90.      ] >\n",
      "0:00:55.810734\n",
      "frame = 16\n",
      "< Timestep 16 with unit cell dimensions [30.764982 30.486385 29.573902 90.       90.       90.      ] >\n",
      "0:00:59.405582\n",
      "frame = 17\n",
      "< Timestep 17 with unit cell dimensions [30.672724 30.394962 29.485216 90.       90.       90.      ] >\n",
      "0:01:04.689193\n",
      "frame = 18\n",
      "< Timestep 18 with unit cell dimensions [30.674246 30.396471 29.48668  90.       90.       90.      ] >\n",
      "0:01:08.959986\n",
      "frame = 19\n",
      "< Timestep 19 with unit cell dimensions [30.699165 30.421165 29.510633 90.       90.       90.      ] >\n",
      "0:01:12.291962\n",
      "0:01:12.299845\n"
     ]
    }
   ],
   "source": [
    "from CodeEntropy.ClassCollection.PoseidonClass import Poseidon\n",
    "poseidon_object = Poseidon(container=u, start=0, end=20)"
   ]
  },
  {
   "cell_type": "markdown",
   "id": "5fd37e4e-1fc5-4a30-84b3-863f19cbb0b6",
   "metadata": {
    "tags": []
   },
   "source": [
    "## Calculate Entropy"
   ]
  },
  {
   "cell_type": "markdown",
   "id": "41cc97b9-e89d-431c-9991-00a39f69f2a2",
   "metadata": {
    "tags": []
   },
   "source": [
    "### Whole Molecule level"
   ]
  },
  {
   "cell_type": "code",
   "execution_count": 7,
   "id": "f5f77c6b-2b32-4321-9fab-f597f6371ac4",
   "metadata": {},
   "outputs": [
    {
     "name": "stdout",
     "output_type": "stream",
     "text": [
      "2023-09-08 15:47:16.658787\n",
      "\n",
      "solvent: ['WAT', 'wat', 'SOL', 'H2O', 'h2o', 'WAT_O', 'TIP3']\n",
      "\n",
      "water: ['WAT', 'wat', 'SOL', 'H2O', 'h2o', 'WAT_O', 'TIP3']\n",
      "\n",
      "1. Populate Dictionaries\n",
      "\n",
      "memory use: 0.121 GB\n",
      "0:00:00.001026\n",
      "memory use: 0.122 GB\n",
      "0:00:04.148103\n",
      "0:00:04.155702\n",
      "memory use: 0.122 GB\n",
      "\n",
      "Total number of frames: 20.0\n",
      "Number of atoms in each frame: 916\n",
      "Number of variables in each list: 19\n",
      "\n",
      "2. Process Dictionaries\n",
      "['moleculeLevel']\n",
      "---level: moleculeLevel\n"
     ]
    },
    {
     "ename": "ValueError",
     "evalue": "Cannot take square root of negative number",
     "output_type": "error",
     "traceback": [
      "\u001b[0;31m---------------------------------------------------------------------------\u001b[0m",
      "\u001b[0;31mValueError\u001b[0m                                Traceback (most recent call last)",
      "Cell \u001b[0;32mIn[7], line 1\u001b[0m\n\u001b[0;32m----> 1\u001b[0m result_wm \u001b[38;5;241m=\u001b[39m \u001b[43mposeidon_object\u001b[49m\u001b[38;5;241;43m.\u001b[39;49m\u001b[43mrun_analysis\u001b[49m\u001b[43m(\u001b[49m\u001b[43mlevel_list\u001b[49m\u001b[43m \u001b[49m\u001b[38;5;241;43m=\u001b[39;49m\u001b[43m \u001b[49m\u001b[43m[\u001b[49m\u001b[38;5;124;43m'\u001b[39;49m\u001b[38;5;124;43mmoleculeLevel\u001b[39;49m\u001b[38;5;124;43m'\u001b[39;49m\u001b[43m]\u001b[49m\u001b[43m,\u001b[49m\u001b[43m \u001b[49m\u001b[43mverbose\u001b[49m\u001b[38;5;241;43m=\u001b[39;49m\u001b[38;5;28;43;01mFalse\u001b[39;49;00m\u001b[43m,\u001b[49m\u001b[43m \u001b[49m\u001b[43mforceUnits\u001b[49m\u001b[38;5;241;43m=\u001b[39;49m\u001b[38;5;124;43m\"\u001b[39;49m\u001b[38;5;124;43mKcal\u001b[39;49m\u001b[38;5;124;43m\"\u001b[39;49m\u001b[43m)\u001b[49m \u001b[38;5;66;03m# this is because the forces value supplied in this trajectory is in Kcal\u001b[39;00m\n\u001b[1;32m      2\u001b[0m \u001b[38;5;28mprint\u001b[39m(result_wm)\n",
      "File \u001b[0;32m~/.local/lib/python3.8/site-packages/CodeEntropy/ClassCollection/PoseidonClass.py:391\u001b[0m, in \u001b[0;36mPoseidon.run_analysis\u001b[0;34m(self, temperature, entropyEnergy, level_list, solvent, water, verbose, weighting, forceUnits)\u001b[0m\n\u001b[1;32m    389\u001b[0m \t\u001b[38;5;28;01mif\u001b[39;00m entropyEnergy:\n\u001b[1;32m    390\u001b[0m \t\tname \u001b[38;5;241m=\u001b[39m \u001b[38;5;124m'\u001b[39m\u001b[38;5;124mEE\u001b[39m\u001b[38;5;124m'\u001b[39m\n\u001b[0;32m--> 391\u001b[0m \t\tresult \u001b[38;5;241m=\u001b[39m \u001b[43mprocessEE\u001b[49m\u001b[43m(\u001b[49m\u001b[43mnum_frames\u001b[49m\u001b[43m,\u001b[49m\u001b[43m \u001b[49m\u001b[43mtotFrames\u001b[49m\u001b[43m,\u001b[49m\u001b[43m \u001b[49m\u001b[43mEEclass2\u001b[49m\u001b[43m,\u001b[49m\u001b[43m \u001b[49m\n\u001b[1;32m    392\u001b[0m \u001b[43m\t\t\t\t\u001b[49m\u001b[43msolvent\u001b[49m\u001b[43m,\u001b[49m\u001b[43m \u001b[49m\u001b[43mwaterTuple\u001b[49m\u001b[43m,\u001b[49m\u001b[43m \u001b[49m\n\u001b[1;32m    393\u001b[0m \u001b[43m\t\t\t\t\u001b[49m\u001b[43mtemperature\u001b[49m\u001b[43m,\u001b[49m\u001b[43m \u001b[49m\u001b[43mlevel\u001b[49m\u001b[43m,\u001b[49m\u001b[43m \u001b[49m\u001b[43mname\u001b[49m\u001b[43m,\u001b[49m\u001b[43m \u001b[49m\u001b[43mforceUnits\u001b[49m\u001b[43m,\u001b[49m\u001b[43m \u001b[49m\u001b[43mverbosePrint\u001b[49m\u001b[43m)\u001b[49m\n\u001b[1;32m    394\u001b[0m \t\tresult_list[level] \u001b[38;5;241m=\u001b[39m result\n\u001b[1;32m    395\u001b[0m \u001b[38;5;66;03m# #'''\u001b[39;00m\n\u001b[1;32m    396\u001b[0m \u001b[38;5;66;03m# ##Save each class as an object so that we can continue populating\u001b[39;00m\n\u001b[1;32m    397\u001b[0m \u001b[38;5;66;03m# #in stages.\u001b[39;00m\n\u001b[0;32m   (...)\u001b[0m\n\u001b[1;32m    410\u001b[0m \n\u001b[1;32m    411\u001b[0m \u001b[38;5;66;03m# #'''\u001b[39;00m\n",
      "File \u001b[0;32m~/.local/lib/python3.8/site-packages/CodeEntropy/poseidon/analysis/EECalculation.py:36\u001b[0m, in \u001b[0;36mprocessEE\u001b[0;34m(num_frames, totFrames, Aclass, solvent, waterTuple, temperature, level, name, forceUnits, verbosePrint)\u001b[0m\n\u001b[1;32m     34\u001b[0m SvibCalculations(totFrames, Aclass, temperature, forceUnits, verbosePrint)\n\u001b[1;32m     35\u001b[0m verbosePrint(\u001b[38;5;124m'\u001b[39m\u001b[38;5;130;01m\\n\u001b[39;00m\u001b[38;5;130;01m\\n\u001b[39;00m\u001b[38;5;124m --WM_VIBRATIONAL_ENTROPY--\u001b[39m\u001b[38;5;130;01m\\n\u001b[39;00m\u001b[38;5;124m'\u001b[39m)\n\u001b[0;32m---> 36\u001b[0m \u001b[43mWMSvibCalculations\u001b[49m\u001b[43m(\u001b[49m\u001b[43mAclass\u001b[49m\u001b[43m,\u001b[49m\u001b[43m \u001b[49m\u001b[43mtotFrames\u001b[49m\u001b[43m,\u001b[49m\u001b[43m \u001b[49m\u001b[43mtemperature\u001b[49m\u001b[43m,\u001b[49m\u001b[43m \u001b[49m\n\u001b[1;32m     37\u001b[0m \u001b[43m        \u001b[49m\u001b[43mforceUnits\u001b[49m\u001b[43m,\u001b[49m\u001b[43m \u001b[49m\u001b[43mverbosePrint\u001b[49m\u001b[43m)\u001b[49m\n\u001b[1;32m     39\u001b[0m verbosePrint(\u001b[38;5;124m'\u001b[39m\u001b[38;5;130;01m\\n\u001b[39;00m\u001b[38;5;130;01m\\n\u001b[39;00m\u001b[38;5;124m --WM_CONFORMATIONAL_ENTROPY(DIH)--\u001b[39m\u001b[38;5;130;01m\\n\u001b[39;00m\u001b[38;5;124m'\u001b[39m)\n\u001b[1;32m     40\u001b[0m process_dihedrals(Aclass, verbosePrint)\n",
      "File \u001b[0;32m~/.local/lib/python3.8/site-packages/CodeEntropy/poseidon/analysis/EECalculation.py:928\u001b[0m, in \u001b[0;36mWMSvibCalculations\u001b[0;34m(Aclass, totFrames, temperature, forceUnits, verbosePrint)\u001b[0m\n\u001b[1;32m    925\u001b[0m count \u001b[38;5;241m=\u001b[39m values[\u001b[38;5;241m7\u001b[39m]\n\u001b[1;32m    926\u001b[0m \u001b[38;5;66;03m#countNorm = count / float(totFrames)\u001b[39;00m\n\u001b[1;32m    927\u001b[0m Svib_qm, Strans_qm, Srot_qm, Strans_qm_UA, \\\n\u001b[0;32m--> 928\u001b[0m         Srot_qm_UA, T_mean \u001b[38;5;241m=\u001b[39m \u001b[43mprocess_FT\u001b[49m\u001b[43m(\u001b[49m\n\u001b[1;32m    929\u001b[0m \u001b[43m                \u001b[49m\u001b[43mAclass\u001b[49m\u001b[43m,\u001b[49m\u001b[43m \u001b[49m\u001b[43mnearest\u001b[49m\u001b[43m,\u001b[49m\u001b[43m \u001b[49m\u001b[43mresname_Ndih\u001b[49m\u001b[43m,\u001b[49m\u001b[43m \u001b[49m\n\u001b[1;32m    930\u001b[0m \u001b[43m                \u001b[49m\u001b[43mvalues\u001b[49m\u001b[43m,\u001b[49m\u001b[43m \u001b[49m\u001b[43mtemperature\u001b[49m\u001b[43m,\u001b[49m\u001b[43m \u001b[49m\n\u001b[1;32m    931\u001b[0m \u001b[43m                \u001b[49m\u001b[43mforceUnits\u001b[49m\u001b[43m,\u001b[49m\u001b[43m \u001b[49m\u001b[43mverbosePrint\u001b[49m\u001b[43m)\u001b[49m\n\u001b[1;32m    933\u001b[0m Aclass\u001b[38;5;241m.\u001b[39mallVariables_dict[nearest][resname]\\\n\u001b[1;32m    934\u001b[0m         [RADshellDist][\u001b[38;5;124m'\u001b[39m\u001b[38;5;124mWM_Strans\u001b[39m\u001b[38;5;124m'\u001b[39m] \u001b[38;5;241m=\u001b[39m \\\n\u001b[1;32m    935\u001b[0m         Strans_qm \u001b[38;5;241m*\u001b[39m \u001b[38;5;241m8.314\u001b[39m, count\n\u001b[1;32m    936\u001b[0m Aclass\u001b[38;5;241m.\u001b[39mallVariables_dict[nearest][resname]\\\n\u001b[1;32m    937\u001b[0m         [RADshellDist][\u001b[38;5;124m'\u001b[39m\u001b[38;5;124mWM_Srot\u001b[39m\u001b[38;5;124m'\u001b[39m] \u001b[38;5;241m=\u001b[39m \\\n\u001b[1;32m    938\u001b[0m         Srot_qm \u001b[38;5;241m*\u001b[39m \u001b[38;5;241m8.314\u001b[39m, count\n",
      "File \u001b[0;32m~/.local/lib/python3.8/site-packages/CodeEntropy/poseidon/analysis/EECalculation.py:986\u001b[0m, in \u001b[0;36mprocess_FT\u001b[0;34m(Aclass, nearest, resname_Ndih, values, temperature, forceUnits, verbosePrint)\u001b[0m\n\u001b[1;32m    983\u001b[0m \u001b[38;5;28;01mif\u001b[39;00m \u001b[38;5;28mtype\u001b[39m(UAs_forces) \u001b[38;5;241m!=\u001b[39m \u001b[38;5;28mtype\u001b[39m(\u001b[38;5;28mint\u001b[39m) \u001b[38;5;129;01mand\u001b[39;00m \u001b[38;5;28mtype\u001b[39m(UAs_torques) \u001b[38;5;241m!=\u001b[39m \u001b[38;5;28mtype\u001b[39m(\u001b[38;5;28mint\u001b[39m):\n\u001b[1;32m    984\u001b[0m     verbosePrint(\u001b[38;5;124m'\u001b[39m\u001b[38;5;130;01m\\t\u001b[39;00m\u001b[38;5;130;01m\\t\u001b[39;00m\u001b[38;5;124m--WM_UAs\u001b[39m\u001b[38;5;124m'\u001b[39m, resname)\n\u001b[1;32m    985\u001b[0m     Strans_qm, Srot_qm, pe_mean, ke_mean, zpe, T_mean, \\\n\u001b[0;32m--> 986\u001b[0m             eigenvalues \u001b[38;5;241m=\u001b[39m \u001b[43mFT_S\u001b[49m\u001b[43m(\u001b[49m\u001b[43mUAs_forces\u001b[49m\u001b[43m,\u001b[49m\u001b[43m \u001b[49m\u001b[43mUAs_torques\u001b[49m\u001b[43m,\u001b[49m\u001b[43m \u001b[49m\n\u001b[1;32m    987\u001b[0m \u001b[43m            \u001b[49m\u001b[43mpe\u001b[49m\u001b[43m,\u001b[49m\u001b[43m \u001b[49m\u001b[43mke\u001b[49m\u001b[43m,\u001b[49m\u001b[43m \u001b[49m\u001b[43mforceUnits\u001b[49m\u001b[43m,\u001b[49m\u001b[43m \u001b[49m\u001b[43mtemperature\u001b[49m\u001b[43m,\u001b[49m\u001b[43m \u001b[49m\u001b[43mverbosePrint\u001b[49m\u001b[43m,\u001b[49m\u001b[43m \u001b[49m\u001b[43mprint_out\u001b[49m\u001b[38;5;241;43m=\u001b[39;49m\u001b[38;5;28;43;01mFalse\u001b[39;49;00m\u001b[43m)\u001b[49m\n\u001b[1;32m    988\u001b[0m     verbosePrint(\u001b[38;5;124m'\u001b[39m\u001b[38;5;130;01m\\n\u001b[39;00m\u001b[38;5;130;01m\\t\u001b[39;00m\u001b[38;5;130;01m\\t\u001b[39;00m\u001b[38;5;130;01m\\t\u001b[39;00m\u001b[38;5;124mTmean\u001b[39m\u001b[38;5;124m'\u001b[39m, T_mean, \u001b[38;5;124m'\u001b[39m\u001b[38;5;130;01m\\n\u001b[39;00m\u001b[38;5;124m'\u001b[39m)\n\u001b[1;32m    990\u001b[0m     \u001b[38;5;28;01mfor\u001b[39;00m ev \u001b[38;5;129;01min\u001b[39;00m eigenvalues:\n",
      "File \u001b[0;32m~/.local/lib/python3.8/site-packages/CodeEntropy/poseidon/analysis/EECalculation.py:1143\u001b[0m, in \u001b[0;36mFT_S\u001b[0;34m(forces, torques, pe, ke, forceUnits, temperature, verbosePrint, print_out)\u001b[0m\n\u001b[1;32m   1141\u001b[0m \u001b[38;5;28;01mif\u001b[39;00m \u001b[38;5;28mtype\u001b[39m(forces) \u001b[38;5;241m!=\u001b[39m \u001b[38;5;28mtype\u001b[39m(\u001b[38;5;28mint\u001b[39m):\n\u001b[1;32m   1142\u001b[0m     force_sqrd_SI \u001b[38;5;241m=\u001b[39m np\u001b[38;5;241m.\u001b[39mmultiply(forces, constant)\n\u001b[0;32m-> 1143\u001b[0m     Strans_qm, zpe_trans, eigenvalues \u001b[38;5;241m=\u001b[39m \u001b[43mSvib_calc\u001b[49m\u001b[43m(\u001b[49m\u001b[43mforce_sqrd_SI\u001b[49m\u001b[43m,\u001b[49m\u001b[43m \u001b[49m\n\u001b[1;32m   1144\u001b[0m \u001b[43m            \u001b[49m\u001b[43mT_mean\u001b[49m\u001b[43m,\u001b[49m\u001b[43m \u001b[49m\u001b[43mcov\u001b[49m\u001b[38;5;241;43m=\u001b[39;49m\u001b[38;5;28;43;01mTrue\u001b[39;49;00m\u001b[43m,\u001b[49m\u001b[43m \u001b[49m\u001b[43mout\u001b[49m\u001b[38;5;241;43m=\u001b[39;49m\u001b[38;5;28;43;01mFalse\u001b[39;49;00m\u001b[43m,\u001b[49m\u001b[43m \u001b[49m\u001b[43moutputEigenValues\u001b[49m\u001b[38;5;241;43m=\u001b[39;49m\u001b[38;5;28;43;01mTrue\u001b[39;49;00m\u001b[43m)\u001b[49m\n\u001b[1;32m   1145\u001b[0m     zpe \u001b[38;5;241m=\u001b[39m zpe_trans\n\u001b[1;32m   1146\u001b[0m     \u001b[38;5;28;01mif\u001b[39;00m print_out \u001b[38;5;241m==\u001b[39m \u001b[38;5;28;01mTrue\u001b[39;00m:\n",
      "File \u001b[0;32m~/.local/lib/python3.8/site-packages/CodeEntropy/poseidon/analysis/EECalculation.py:867\u001b[0m, in \u001b[0;36mSvib_calc\u001b[0;34m(matrix_SI, T, cov, out, *args, **kwargs)\u001b[0m\n\u001b[1;32m    865\u001b[0m     w \u001b[38;5;241m=\u001b[39m \u001b[38;5;241m0\u001b[39m\n\u001b[1;32m    866\u001b[0m \u001b[38;5;28;01melse\u001b[39;00m:\n\u001b[0;32m--> 867\u001b[0m     \u001b[38;5;28;01mraise\u001b[39;00m \u001b[38;5;167;01mValueError\u001b[39;00m(\u001b[38;5;124m\"\u001b[39m\u001b[38;5;124mCannot take square root of negative number\u001b[39m\u001b[38;5;124m\"\u001b[39m)\n\u001b[1;32m    868\u001b[0m frequencies\u001b[38;5;241m.\u001b[39mappend(w)\n\u001b[1;32m    869\u001b[0m zpe \u001b[38;5;241m=\u001b[39m \u001b[38;5;241m0.5\u001b[39m \u001b[38;5;241m*\u001b[39m w \u001b[38;5;241m*\u001b[39m h \u001b[38;5;241m*\u001b[39m NA\n",
      "\u001b[0;31mValueError\u001b[0m: Cannot take square root of negative number"
     ]
    }
   ],
   "source": [
    "result_wm = poseidon_object.run_analysis(level_list = ['moleculeLevel'], verbose=False, forceUnits=\"Kcal\") # this is because the forces value supplied in this trajectory is in Kcal\n",
    "print(result_wm)"
   ]
  },
  {
   "cell_type": "markdown",
   "id": "6899945c-edb3-408c-a0ae-4035895b50e9",
   "metadata": {},
   "source": [
    "### Residue Level"
   ]
  },
  {
   "cell_type": "code",
   "execution_count": null,
   "id": "2a32bbeb-0033-4958-84d6-cf05266b486d",
   "metadata": {},
   "outputs": [],
   "source": [
    "result_res = poseidon_object.run_analysis(level_list = ['residLevel_resname'], verbose=False, forceUnits=\"Kcal\") # this is because the forces value supplied in this trajectory is in Kcal\n",
    "print(result_res)"
   ]
  },
  {
   "cell_type": "markdown",
   "id": "81e7011e-3dc9-4115-932f-0bbad538ae0a",
   "metadata": {},
   "source": [
    "### United Atom Level"
   ]
  },
  {
   "cell_type": "code",
   "execution_count": null,
   "id": "33ebd4aa-d117-4812-b7e8-1faed30c88e0",
   "metadata": {},
   "outputs": [],
   "source": [
    "result_ua = poseidon_object.run_analysis(level_list = ['atomLevel'], verbose=False, forceUnits=\"Kcal\") # this is because the forces value supplied in this trajectory is in Kcal\n",
    "print(result_ua)"
   ]
  },
  {
   "cell_type": "markdown",
   "id": "0137f3df-31d8-49d6-abab-6bce5f1d2ca3",
   "metadata": {},
   "source": [
    "### Solute Contact"
   ]
  },
  {
   "cell_type": "code",
   "execution_count": null,
   "id": "27ca66f2-04c2-4471-9fa7-23b6d392c26b",
   "metadata": {},
   "outputs": [],
   "source": [
    "result_solcon = poseidon_object.run_analysis(level_list = ['soluteContacts'], verbose=False, forceUnits=\"Kcal\") # this is because the forces value supplied in this trajectory is in Kcal\n",
    "print(result_solcon)"
   ]
  },
  {
   "cell_type": "code",
   "execution_count": null,
   "id": "8bbbbf65-8e67-4a06-9e92-2d515e31567d",
   "metadata": {},
   "outputs": [],
   "source": []
  }
 ],
 "metadata": {
  "kernelspec": {
   "display_name": "Python 3 (ipykernel)",
   "language": "python",
   "name": "python3"
  },
  "language_info": {
   "codemirror_mode": {
    "name": "ipython",
    "version": 3
   },
   "file_extension": ".py",
   "mimetype": "text/x-python",
   "name": "python",
   "nbconvert_exporter": "python",
   "pygments_lexer": "ipython3",
   "version": "3.8.10"
  }
 },
 "nbformat": 4,
 "nbformat_minor": 5
}
