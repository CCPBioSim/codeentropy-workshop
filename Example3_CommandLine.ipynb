{
 "cells": [
  {
   "cell_type": "markdown",
   "id": "8fa7763b-ee43-4d53-8df9-38da101f5abb",
   "metadata": {},
   "source": [
    "In the previous 2 examples, you imported the code and went through loading data and each step of the entropy calculation. It is also possible to run CodeEntropy through the command line. You just need to know the correct flags to select your data files and the entropy steps you want."
   ]
  },
  {
   "cell_type": "markdown",
   "id": "097711b8-f4b5-487a-9e2f-6b45431e9441",
   "metadata": {},
   "source": [
    "# Flags for loading files\n",
    "-f FILEPATHNAME (give the paths for both the topology file and the trajectory file)\n",
    "\n",
    "Optional flags if you want to select some of the data rather than using the whole trajectory:\n",
    "\n",
    "-l selectionstring - to select some atoms or residues using MDAnaylsis selection syntax [https://userguide.mdanalysis.org/stable/selections.html]\n",
    "\n",
    "-b framenumber - start from selected frame; default 0 (first frame)\n",
    "\n",
    "-e framenumber - end at selected frame; default -1 (end of file)\n",
    "\n",
    "-d step - interval between two consecutive frames to be read index; default 1 (read every frame)\n"
   ]
  },
  {
   "cell_type": "markdown",
   "id": "9aff0a53-7f3c-495b-a4c9-dab711652d97",
   "metadata": {},
   "source": [
    "# Flags for selecting levels in the hierarchy\n",
    "\n",
    "For Solutes:\n",
    "\n",
    "  --wm                  Do entropy calculation at whole molecule level (The whole molecule is treated as one single bead.)\n",
    "\n",
    "  --res                 Do entropy calculation at residue level (A residue as a whole represents a bead.)\n",
    "  \n",
    "  --uatom               Do entropy calculation at united atom level (A heavy atom and its covalently bonded H-atoms for an united atom and represent a bead.)\n",
    "  \n",
    "  --topog TOPOGENTROPYMETHOD\n",
    "                        Compute the topographical entropy using 1 : pLogP method 2: Corr. pLogP\n",
    "                        method 5: Corr. pLogP after adaptive enumeration of states. Default: 0 =\n",
    "                        no topographical analysis\n",
    "\n",
    "For solvents:\n",
    "  \n",
    "  --solwm               Do solution entropy calculation at whole molecule level (The whole molecule is treated as one single bead.)\n",
    "  \n",
    "  --solres              Do solution entropy calculation at residue level (A residue as a whole represents a bead.)\n",
    "  \n",
    "  --soluatom            Do solution entropy calculation at united atom level (A heavy atom and its covalently bonded H-atoms for an united atom and represent a bead.)\n",
    "  \n",
    "  --solContact          Do solute contact calculation\n",
    "  "
   ]
  },
  {
   "cell_type": "markdown",
   "id": "bac06991-adec-459a-9386-6a1548e7d43c",
   "metadata": {},
   "source": [
    "# Try it yourself\n",
    "Use the cell below to write the command for a CodeEntropy calculation. Can you replicate the results of Examples 1 and 2? Or as an alternative, you can try installing CodeEntropy on your own machine and running a calculation with your own data [https://codeentropy.readthedocs.io/en/latest/getting_started.html#installation]."
   ]
  },
  {
   "cell_type": "code",
   "execution_count": null,
   "id": "17cfa988-d818-4591-9c53-5938f3d24ec4",
   "metadata": {},
   "outputs": [],
   "source": [
    "!CodeEntropyPoseidon -f"
   ]
  },
  {
   "cell_type": "markdown",
   "id": "a466a393-5fc8-435e-abaf-b9111106138f",
   "metadata": {},
   "source": [
    "You can use ls to look at what files have been created and cat FILENAME to look at the content of those files. Or open a terminal and use your favourite text editor to read the files."
   ]
  },
  {
   "cell_type": "code",
   "execution_count": null,
   "id": "4c904d8d-8330-4738-81b3-18ac6bcd2fb0",
   "metadata": {},
   "outputs": [],
   "source": [
    "!ls"
   ]
  },
  {
   "cell_type": "code",
   "execution_count": null,
   "id": "2f61d2b2-af9d-4287-b69e-2fa9a57e8285",
   "metadata": {},
   "outputs": [],
   "source": [
    "!cat FILENAME"
   ]
  }
 ],
 "metadata": {
  "kernelspec": {
   "display_name": "Python 3 (ipykernel)",
   "language": "python",
   "name": "python3"
  },
  "language_info": {
   "codemirror_mode": {
    "name": "ipython",
    "version": 3
   },
   "file_extension": ".py",
   "mimetype": "text/x-python",
   "name": "python",
   "nbconvert_exporter": "python",
   "pygments_lexer": "ipython3",
   "version": "3.8.10"
  }
 },
 "nbformat": 4,
 "nbformat_minor": 5
}
